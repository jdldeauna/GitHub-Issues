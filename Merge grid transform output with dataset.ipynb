{
 "cells": [
  {
   "cell_type": "code",
   "execution_count": 1,
   "metadata": {},
   "outputs": [],
   "source": [
    "import gcsfs\n",
    "import cftime\n",
    "import intake\n",
    "from cmip6_preprocessing.preprocessing import combined_preprocessing\n",
    "from fastjmd95 import rho\n",
    "from xgcm import Grid\n",
    "import numpy as np"
   ]
  },
  {
   "cell_type": "code",
   "execution_count": 2,
   "metadata": {},
   "outputs": [],
   "source": [
    "cat_url = \"https://storage.googleapis.com/cmip6/pangeo-cmip6-noQC.json\"\n",
    "col = intake.open_esm_datastore(cat_url)\n",
    "cat = col.search(table_id='Omon', \n",
    "                 experiment_id=['historical'],\n",
    "                 variable_id=['thetao','so'],\n",
    "                 member_id=['r1i1p1f1'],\n",
    "                 grid_label='gr',\n",
    "                 source_id=['GFDL-ESM4', 'NorESM2-LM']\n",
    "                )"
   ]
  },
  {
   "cell_type": "code",
   "execution_count": 3,
   "metadata": {},
   "outputs": [
    {
     "name": "stdout",
     "output_type": "stream",
     "text": [
      "\n",
      "--> The keys in the returned dictionary of datasets are constructed as follows:\n",
      "\t'activity_id.institution_id.source_id.experiment_id.table_id.grid_label'\n"
     ]
    },
    {
     "name": "stderr",
     "output_type": "stream",
     "text": [
      "/Users/odyssey/miniconda3/envs/xesmf_env/lib/python3.7/site-packages/xarray/core/indexing.py:1369: PerformanceWarning: Slicing is producing a large chunk. To accept the large\n",
      "chunk and silence this warning, set the option\n",
      "    >>> with dask.config.set(**{'array.slicing.split_large_chunks': False}):\n",
      "    ...     array[indexer]\n",
      "\n",
      "To avoid creating the large chunks, set the option\n",
      "    >>> with dask.config.set(**{'array.slicing.split_large_chunks': True}):\n",
      "    ...     array[indexer]\n",
      "  return self.array[key]\n",
      "/Users/odyssey/miniconda3/envs/xesmf_env/lib/python3.7/site-packages/xarray/core/indexing.py:1369: PerformanceWarning: Slicing is producing a large chunk. To accept the large\n",
      "chunk and silence this warning, set the option\n",
      "    >>> with dask.config.set(**{'array.slicing.split_large_chunks': False}):\n",
      "    ...     array[indexer]\n",
      "\n",
      "To avoid creating the large chunks, set the option\n",
      "    >>> with dask.config.set(**{'array.slicing.split_large_chunks': True}):\n",
      "    ...     array[indexer]\n",
      "  return self.array[key]\n"
     ]
    },
    {
     "data": {
      "text/html": [
       "\n",
       "    <div>\n",
       "        <style>\n",
       "            /* Turns off some styling */\n",
       "            progress {\n",
       "                /* gets rid of default border in Firefox and Opera. */\n",
       "                border: none;\n",
       "                /* Needs to be in here for Safari polyfill so background images work as expected. */\n",
       "                background-size: auto;\n",
       "            }\n",
       "            .progress-bar-interrupted, .progress-bar-interrupted::-webkit-progress-bar {\n",
       "                background: #F44336;\n",
       "            }\n",
       "        </style>\n",
       "      <progress value='2' class='' max='2' style='width:300px; height:20px; vertical-align: middle;'></progress>\n",
       "      100.00% [2/2 00:02<00:00]\n",
       "    </div>\n",
       "    "
      ],
      "text/plain": [
       "<IPython.core.display.HTML object>"
      ]
     },
     "metadata": {},
     "output_type": "display_data"
    }
   ],
   "source": [
    "cmip6_compiled = cat.to_dataset_dict(\n",
    "            zarr_kwargs={'consolidated':True, 'decode_times':False},\n",
    "            preprocess=combined_preprocessing\n",
    "            )"
   ]
  },
  {
   "cell_type": "markdown",
   "metadata": {},
   "source": [
    "Save density as sigma_0"
   ]
  },
  {
   "cell_type": "code",
   "execution_count": 4,
   "metadata": {},
   "outputs": [],
   "source": [
    "for k, ds in cmip6_compiled.items():\n",
    "    ds['sigma_0'] = rho(ds.so, ds.thetao, 0) - 1000\n",
    "    # use xr.set_coords?"
   ]
  },
  {
   "cell_type": "code",
   "execution_count": 5,
   "metadata": {},
   "outputs": [
    {
     "name": "stdout",
     "output_type": "stream",
     "text": [
      "<class 'dict'>\n",
      "CMIP.NOAA-GFDL.GFDL-ESM4.historical.Omon.gr\n",
      "['bnds', 'lev', 'member_id', 'time', 'vertex', 'x', 'y']\n",
      "['y', 'lat_bounds', 'lev', 'lev_bounds', 'x', 'lon_bounds', 'so', 'time', 'time_bounds', 'bnds', 'lon', 'lat', 'lon_verticies', 'lat_verticies', 'vertex', 'member_id', 'thetao', 'sigma_0']\n",
      "['y', 'lat_bounds', 'lev', 'lev_bounds', 'x', 'lon_bounds', 'time', 'time_bounds', 'bnds', 'lon', 'lat', 'lon_verticies', 'lat_verticies', 'vertex', 'member_id']\n",
      "CMIP.NCC.NorESM2-LM.historical.Omon.gr\n",
      "['bnds', 'lev', 'member_id', 'time', 'vertex', 'x', 'y']\n",
      "['x', 'y', 'lat', 'lev', 'lev_bounds', 'lon', 'so', 'time', 'time_bounds', 'lat_verticies', 'lon_verticies', 'bnds', 'vertex', 'lon_bounds', 'lat_bounds', 'member_id', 'thetao', 'sigma_0']\n",
      "['x', 'y', 'lat', 'lev', 'lev_bounds', 'lon', 'time', 'time_bounds', 'lat_verticies', 'lon_verticies', 'bnds', 'vertex', 'lon_bounds', 'lat_bounds', 'member_id']\n"
     ]
    }
   ],
   "source": [
    "print(type(cmip6_compiled))\n",
    "for k, ds in cmip6_compiled.items():\n",
    "    print(k)\n",
    "    print(list(ds.dims))\n",
    "    print(list(ds.variables))\n",
    "    print(list(ds.coords))"
   ]
  },
  {
   "cell_type": "markdown",
   "metadata": {},
   "source": [
    "Transform potential temperature and salinity"
   ]
  },
  {
   "cell_type": "code",
   "execution_count": 6,
   "metadata": {},
   "outputs": [
    {
     "ename": "MergeError",
     "evalue": "unable to determine if these variables should be coordinates or not in the merged result: {'sigma_0'}",
     "output_type": "error",
     "traceback": [
      "\u001b[0;31m---------------------------------------------------------------------------\u001b[0m",
      "\u001b[0;31mMergeError\u001b[0m                                Traceback (most recent call last)",
      "\u001b[0;32m<ipython-input-6-c82596749584>\u001b[0m in \u001b[0;36m<module>\u001b[0;34m\u001b[0m\n\u001b[1;32m     12\u001b[0m               \u001b[0;34m'Z'\u001b[0m\u001b[0;34m,\u001b[0m\u001b[0;34m\u001b[0m\u001b[0;34m\u001b[0m\u001b[0m\n\u001b[1;32m     13\u001b[0m               \u001b[0mtarget_values\u001b[0m\u001b[0;34m,\u001b[0m\u001b[0;34m\u001b[0m\u001b[0;34m\u001b[0m\u001b[0m\n\u001b[0;32m---> 14\u001b[0;31m               \u001b[0mtarget_data\u001b[0m\u001b[0;34m=\u001b[0m\u001b[0mds\u001b[0m\u001b[0;34m.\u001b[0m\u001b[0msigma_0\u001b[0m\u001b[0;34m\u001b[0m\u001b[0;34m\u001b[0m\u001b[0m\n\u001b[0m\u001b[1;32m     15\u001b[0m                 )\n\u001b[1;32m     16\u001b[0m \u001b[0;34m\u001b[0m\u001b[0m\n",
      "\u001b[0;32m~/miniconda3/envs/xesmf_env/lib/python3.7/site-packages/xarray/core/dataset.py\u001b[0m in \u001b[0;36m__setitem__\u001b[0;34m(self, key, value)\u001b[0m\n\u001b[1;32m   1427\u001b[0m             )\n\u001b[1;32m   1428\u001b[0m \u001b[0;34m\u001b[0m\u001b[0m\n\u001b[0;32m-> 1429\u001b[0;31m         \u001b[0mself\u001b[0m\u001b[0;34m.\u001b[0m\u001b[0mupdate\u001b[0m\u001b[0;34m(\u001b[0m\u001b[0;34m{\u001b[0m\u001b[0mkey\u001b[0m\u001b[0;34m:\u001b[0m \u001b[0mvalue\u001b[0m\u001b[0;34m}\u001b[0m\u001b[0;34m)\u001b[0m\u001b[0;34m\u001b[0m\u001b[0;34m\u001b[0m\u001b[0m\n\u001b[0m\u001b[1;32m   1430\u001b[0m \u001b[0;34m\u001b[0m\u001b[0m\n\u001b[1;32m   1431\u001b[0m     \u001b[0;32mdef\u001b[0m \u001b[0m__delitem__\u001b[0m\u001b[0;34m(\u001b[0m\u001b[0mself\u001b[0m\u001b[0;34m,\u001b[0m \u001b[0mkey\u001b[0m\u001b[0;34m:\u001b[0m \u001b[0mHashable\u001b[0m\u001b[0;34m)\u001b[0m \u001b[0;34m->\u001b[0m \u001b[0;32mNone\u001b[0m\u001b[0;34m:\u001b[0m\u001b[0;34m\u001b[0m\u001b[0;34m\u001b[0m\u001b[0m\n",
      "\u001b[0;32m~/miniconda3/envs/xesmf_env/lib/python3.7/site-packages/xarray/core/dataset.py\u001b[0m in \u001b[0;36mupdate\u001b[0;34m(self, other)\u001b[0m\n\u001b[1;32m   3897\u001b[0m         \u001b[0mDataset\u001b[0m\u001b[0;34m.\u001b[0m\u001b[0massign\u001b[0m\u001b[0;34m\u001b[0m\u001b[0;34m\u001b[0m\u001b[0m\n\u001b[1;32m   3898\u001b[0m         \"\"\"\n\u001b[0;32m-> 3899\u001b[0;31m         \u001b[0mmerge_result\u001b[0m \u001b[0;34m=\u001b[0m \u001b[0mdataset_update_method\u001b[0m\u001b[0;34m(\u001b[0m\u001b[0mself\u001b[0m\u001b[0;34m,\u001b[0m \u001b[0mother\u001b[0m\u001b[0;34m)\u001b[0m\u001b[0;34m\u001b[0m\u001b[0;34m\u001b[0m\u001b[0m\n\u001b[0m\u001b[1;32m   3900\u001b[0m         \u001b[0;32mreturn\u001b[0m \u001b[0mself\u001b[0m\u001b[0;34m.\u001b[0m\u001b[0m_replace\u001b[0m\u001b[0;34m(\u001b[0m\u001b[0minplace\u001b[0m\u001b[0;34m=\u001b[0m\u001b[0;32mTrue\u001b[0m\u001b[0;34m,\u001b[0m \u001b[0;34m**\u001b[0m\u001b[0mmerge_result\u001b[0m\u001b[0;34m.\u001b[0m\u001b[0m_asdict\u001b[0m\u001b[0;34m(\u001b[0m\u001b[0;34m)\u001b[0m\u001b[0;34m)\u001b[0m\u001b[0;34m\u001b[0m\u001b[0;34m\u001b[0m\u001b[0m\n\u001b[1;32m   3901\u001b[0m \u001b[0;34m\u001b[0m\u001b[0m\n",
      "\u001b[0;32m~/miniconda3/envs/xesmf_env/lib/python3.7/site-packages/xarray/core/merge.py\u001b[0m in \u001b[0;36mdataset_update_method\u001b[0;34m(dataset, other)\u001b[0m\n\u001b[1;32m    958\u001b[0m         \u001b[0mpriority_arg\u001b[0m\u001b[0;34m=\u001b[0m\u001b[0;36m1\u001b[0m\u001b[0;34m,\u001b[0m\u001b[0;34m\u001b[0m\u001b[0;34m\u001b[0m\u001b[0m\n\u001b[1;32m    959\u001b[0m         \u001b[0mindexes\u001b[0m\u001b[0;34m=\u001b[0m\u001b[0mindexes\u001b[0m\u001b[0;34m,\u001b[0m\u001b[0;34m\u001b[0m\u001b[0;34m\u001b[0m\u001b[0m\n\u001b[0;32m--> 960\u001b[0;31m         \u001b[0mcombine_attrs\u001b[0m\u001b[0;34m=\u001b[0m\u001b[0;34m\"override\"\u001b[0m\u001b[0;34m,\u001b[0m\u001b[0;34m\u001b[0m\u001b[0;34m\u001b[0m\u001b[0m\n\u001b[0m\u001b[1;32m    961\u001b[0m     )\n",
      "\u001b[0;32m~/miniconda3/envs/xesmf_env/lib/python3.7/site-packages/xarray/core/merge.py\u001b[0m in \u001b[0;36mmerge_core\u001b[0;34m(objects, compat, join, combine_attrs, priority_arg, explicit_coords, indexes, fill_value)\u001b[0m\n\u001b[1;32m    630\u001b[0m         raise MergeError(\n\u001b[1;32m    631\u001b[0m             \u001b[0;34m\"unable to determine if these variables should be \"\u001b[0m\u001b[0;34m\u001b[0m\u001b[0;34m\u001b[0m\u001b[0m\n\u001b[0;32m--> 632\u001b[0;31m             \u001b[0;34m\"coordinates or not in the merged result: %s\"\u001b[0m \u001b[0;34m%\u001b[0m \u001b[0mambiguous_coords\u001b[0m\u001b[0;34m\u001b[0m\u001b[0;34m\u001b[0m\u001b[0m\n\u001b[0m\u001b[1;32m    633\u001b[0m         )\n\u001b[1;32m    634\u001b[0m \u001b[0;34m\u001b[0m\u001b[0m\n",
      "\u001b[0;31mMergeError\u001b[0m: unable to determine if these variables should be coordinates or not in the merged result: {'sigma_0'}"
     ]
    }
   ],
   "source": [
    "for k, ds in cmip6_compiled.items():\n",
    "    \n",
    "    grid = Grid(\n",
    "            ds,\n",
    "            periodic=False,\n",
    "            coords={'Z':{'center':'lev', 'outer':'lev_outer'}})\n",
    "    \n",
    "    target_values = levels=np.arange(24,28, 0.4)\n",
    "    \n",
    "    ds['so_sigma'] = grid.transform(\n",
    "              ds.so,\n",
    "              'Z',\n",
    "              target_values,\n",
    "              target_data=ds.sigma_0\n",
    "                )\n",
    "    \n",
    "    ds['thetao_sigma'] = grid.transform(\n",
    "              ds.thetao,\n",
    "              'Z',\n",
    "              target_values,\n",
    "              target_data=ds.sigma_0\n",
    "                )"
   ]
  }
 ],
 "metadata": {
  "kernelspec": {
   "display_name": "xesmf_env",
   "language": "python",
   "name": "xesmf_env"
  },
  "language_info": {
   "codemirror_mode": {
    "name": "ipython",
    "version": 3
   },
   "file_extension": ".py",
   "mimetype": "text/x-python",
   "name": "python",
   "nbconvert_exporter": "python",
   "pygments_lexer": "ipython3",
   "version": "3.7.10"
  }
 },
 "nbformat": 4,
 "nbformat_minor": 4
}
